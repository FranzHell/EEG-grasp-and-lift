{
 "cells": [
  {
   "cell_type": "markdown",
   "metadata": {},
   "source": [
    "# Predicting motions from EEG readings\n",
    "\n",
    "This notebook provides all code needed to process the data from the Kaggle EEG-grasp-and-lift competition, build a model, and train it. There are additional functions for visualising the data too. Play around and see if you can beat my best scores on the validation set (scroll down to see them)."
   ]
  },
  {
   "cell_type": "code",
   "execution_count": 1,
   "metadata": {},
   "outputs": [],
   "source": [
    "import pandas as pd\n",
    "import numpy as np\n",
    "import torch\n",
    "from torch.utils.data import Dataset, DataLoader\n",
    "import torch.nn as nn\n",
    "from torch.autograd import Variable\n",
    "import torch.nn.functional as F\n",
    "from torch.nn.utils import weight_norm\n",
    "import random\n",
    "import matplotlib.pyplot as plt\n",
    "from sklearn.metrics import roc_auc_score as auc\n",
    "from scipy.interpolate import spline"
   ]
  },
  {
   "cell_type": "code",
   "execution_count": null,
   "metadata": {},
   "outputs": [],
   "source": [
    "# set to 0 if not running on GPU\n",
    "USE_CUDA = 1"
   ]
  },
  {
   "cell_type": "markdown",
   "metadata": {},
   "source": [
    "# Quicly Looking at the CSV files\n",
    "\n",
    "LEt's load some CSVs so we can see how they are formatted... There are two CSVs for each series, showing the data and the events. A quick look at the CSVs and we can see there are 32 readings for each time frame, and then in the events csv we have 6 labels columns that will be 0 or 1 depending on whether the action is occurring."
   ]
  },
  {
   "cell_type": "code",
   "execution_count": 7,
   "metadata": {},
   "outputs": [],
   "source": [
    "PATH = '/floyd/input/data/'\n",
    "data = pd.read_csv(f'{PATH}train/subj1_series1_data.csv')\n",
    "ev = pd.read_csv(f'{PATH}/train/subj1_series1_events.csv')"
   ]
  },
  {
   "cell_type": "code",
   "execution_count": 8,
   "metadata": {},
   "outputs": [
    {
     "data": {
      "text/html": [
       "<div>\n",
       "<style scoped>\n",
       "    .dataframe tbody tr th:only-of-type {\n",
       "        vertical-align: middle;\n",
       "    }\n",
       "\n",
       "    .dataframe tbody tr th {\n",
       "        vertical-align: top;\n",
       "    }\n",
       "\n",
       "    .dataframe thead th {\n",
       "        text-align: right;\n",
       "    }\n",
       "</style>\n",
       "<table border=\"1\" class=\"dataframe\">\n",
       "  <thead>\n",
       "    <tr style=\"text-align: right;\">\n",
       "      <th></th>\n",
       "      <th>id</th>\n",
       "      <th>Fp1</th>\n",
       "      <th>Fp2</th>\n",
       "      <th>F7</th>\n",
       "      <th>F3</th>\n",
       "      <th>Fz</th>\n",
       "      <th>F4</th>\n",
       "      <th>F8</th>\n",
       "      <th>FC5</th>\n",
       "      <th>FC1</th>\n",
       "      <th>...</th>\n",
       "      <th>P7</th>\n",
       "      <th>P3</th>\n",
       "      <th>Pz</th>\n",
       "      <th>P4</th>\n",
       "      <th>P8</th>\n",
       "      <th>PO9</th>\n",
       "      <th>O1</th>\n",
       "      <th>Oz</th>\n",
       "      <th>O2</th>\n",
       "      <th>PO10</th>\n",
       "    </tr>\n",
       "  </thead>\n",
       "  <tbody>\n",
       "    <tr>\n",
       "      <th>0</th>\n",
       "      <td>subj1_series1_0</td>\n",
       "      <td>-31</td>\n",
       "      <td>363</td>\n",
       "      <td>211</td>\n",
       "      <td>121</td>\n",
       "      <td>211</td>\n",
       "      <td>15</td>\n",
       "      <td>717</td>\n",
       "      <td>279</td>\n",
       "      <td>35</td>\n",
       "      <td>...</td>\n",
       "      <td>536</td>\n",
       "      <td>348</td>\n",
       "      <td>383</td>\n",
       "      <td>105</td>\n",
       "      <td>607</td>\n",
       "      <td>289</td>\n",
       "      <td>459</td>\n",
       "      <td>173</td>\n",
       "      <td>120</td>\n",
       "      <td>704</td>\n",
       "    </tr>\n",
       "    <tr>\n",
       "      <th>1</th>\n",
       "      <td>subj1_series1_1</td>\n",
       "      <td>-29</td>\n",
       "      <td>342</td>\n",
       "      <td>216</td>\n",
       "      <td>123</td>\n",
       "      <td>222</td>\n",
       "      <td>200</td>\n",
       "      <td>595</td>\n",
       "      <td>329</td>\n",
       "      <td>43</td>\n",
       "      <td>...</td>\n",
       "      <td>529</td>\n",
       "      <td>327</td>\n",
       "      <td>369</td>\n",
       "      <td>78</td>\n",
       "      <td>613</td>\n",
       "      <td>248</td>\n",
       "      <td>409</td>\n",
       "      <td>141</td>\n",
       "      <td>83</td>\n",
       "      <td>737</td>\n",
       "    </tr>\n",
       "    <tr>\n",
       "      <th>2</th>\n",
       "      <td>subj1_series1_2</td>\n",
       "      <td>-172</td>\n",
       "      <td>278</td>\n",
       "      <td>105</td>\n",
       "      <td>93</td>\n",
       "      <td>222</td>\n",
       "      <td>511</td>\n",
       "      <td>471</td>\n",
       "      <td>280</td>\n",
       "      <td>12</td>\n",
       "      <td>...</td>\n",
       "      <td>511</td>\n",
       "      <td>319</td>\n",
       "      <td>355</td>\n",
       "      <td>66</td>\n",
       "      <td>606</td>\n",
       "      <td>320</td>\n",
       "      <td>440</td>\n",
       "      <td>141</td>\n",
       "      <td>62</td>\n",
       "      <td>677</td>\n",
       "    </tr>\n",
       "    <tr>\n",
       "      <th>3</th>\n",
       "      <td>subj1_series1_3</td>\n",
       "      <td>-272</td>\n",
       "      <td>263</td>\n",
       "      <td>-52</td>\n",
       "      <td>99</td>\n",
       "      <td>208</td>\n",
       "      <td>511</td>\n",
       "      <td>428</td>\n",
       "      <td>261</td>\n",
       "      <td>27</td>\n",
       "      <td>...</td>\n",
       "      <td>521</td>\n",
       "      <td>336</td>\n",
       "      <td>356</td>\n",
       "      <td>71</td>\n",
       "      <td>568</td>\n",
       "      <td>339</td>\n",
       "      <td>437</td>\n",
       "      <td>139</td>\n",
       "      <td>58</td>\n",
       "      <td>592</td>\n",
       "    </tr>\n",
       "    <tr>\n",
       "      <th>4</th>\n",
       "      <td>subj1_series1_4</td>\n",
       "      <td>-265</td>\n",
       "      <td>213</td>\n",
       "      <td>-67</td>\n",
       "      <td>99</td>\n",
       "      <td>155</td>\n",
       "      <td>380</td>\n",
       "      <td>476</td>\n",
       "      <td>353</td>\n",
       "      <td>32</td>\n",
       "      <td>...</td>\n",
       "      <td>550</td>\n",
       "      <td>324</td>\n",
       "      <td>346</td>\n",
       "      <td>76</td>\n",
       "      <td>547</td>\n",
       "      <td>343</td>\n",
       "      <td>446</td>\n",
       "      <td>171</td>\n",
       "      <td>67</td>\n",
       "      <td>581</td>\n",
       "    </tr>\n",
       "  </tbody>\n",
       "</table>\n",
       "<p>5 rows × 33 columns</p>\n",
       "</div>"
      ],
      "text/plain": [
       "                id  Fp1  Fp2   F7   F3   Fz   F4   F8  FC5  FC1  ...    P7  \\\n",
       "0  subj1_series1_0  -31  363  211  121  211   15  717  279   35  ...   536   \n",
       "1  subj1_series1_1  -29  342  216  123  222  200  595  329   43  ...   529   \n",
       "2  subj1_series1_2 -172  278  105   93  222  511  471  280   12  ...   511   \n",
       "3  subj1_series1_3 -272  263  -52   99  208  511  428  261   27  ...   521   \n",
       "4  subj1_series1_4 -265  213  -67   99  155  380  476  353   32  ...   550   \n",
       "\n",
       "    P3   Pz   P4   P8  PO9   O1   Oz   O2  PO10  \n",
       "0  348  383  105  607  289  459  173  120   704  \n",
       "1  327  369   78  613  248  409  141   83   737  \n",
       "2  319  355   66  606  320  440  141   62   677  \n",
       "3  336  356   71  568  339  437  139   58   592  \n",
       "4  324  346   76  547  343  446  171   67   581  \n",
       "\n",
       "[5 rows x 33 columns]"
      ]
     },
     "execution_count": 8,
     "metadata": {},
     "output_type": "execute_result"
    }
   ],
   "source": [
    "data.head()"
   ]
  },
  {
   "cell_type": "markdown",
   "metadata": {},
   "source": [
    "# Diagram showing where 32 readings above were taken from\n",
    "<img src=\"images/EEGsetup.jpeg\">"
   ]
  },
  {
   "cell_type": "code",
   "execution_count": 9,
   "metadata": {},
   "outputs": [
    {
     "data": {
      "text/html": [
       "<div>\n",
       "<style scoped>\n",
       "    .dataframe tbody tr th:only-of-type {\n",
       "        vertical-align: middle;\n",
       "    }\n",
       "\n",
       "    .dataframe tbody tr th {\n",
       "        vertical-align: top;\n",
       "    }\n",
       "\n",
       "    .dataframe thead th {\n",
       "        text-align: right;\n",
       "    }\n",
       "</style>\n",
       "<table border=\"1\" class=\"dataframe\">\n",
       "  <thead>\n",
       "    <tr style=\"text-align: right;\">\n",
       "      <th></th>\n",
       "      <th>id</th>\n",
       "      <th>HandStart</th>\n",
       "      <th>FirstDigitTouch</th>\n",
       "      <th>BothStartLoadPhase</th>\n",
       "      <th>LiftOff</th>\n",
       "      <th>Replace</th>\n",
       "      <th>BothReleased</th>\n",
       "    </tr>\n",
       "  </thead>\n",
       "  <tbody>\n",
       "    <tr>\n",
       "      <th>0</th>\n",
       "      <td>subj1_series1_0</td>\n",
       "      <td>0</td>\n",
       "      <td>0</td>\n",
       "      <td>0</td>\n",
       "      <td>0</td>\n",
       "      <td>0</td>\n",
       "      <td>0</td>\n",
       "    </tr>\n",
       "    <tr>\n",
       "      <th>1</th>\n",
       "      <td>subj1_series1_1</td>\n",
       "      <td>0</td>\n",
       "      <td>0</td>\n",
       "      <td>0</td>\n",
       "      <td>0</td>\n",
       "      <td>0</td>\n",
       "      <td>0</td>\n",
       "    </tr>\n",
       "    <tr>\n",
       "      <th>2</th>\n",
       "      <td>subj1_series1_2</td>\n",
       "      <td>0</td>\n",
       "      <td>0</td>\n",
       "      <td>0</td>\n",
       "      <td>0</td>\n",
       "      <td>0</td>\n",
       "      <td>0</td>\n",
       "    </tr>\n",
       "    <tr>\n",
       "      <th>3</th>\n",
       "      <td>subj1_series1_3</td>\n",
       "      <td>0</td>\n",
       "      <td>0</td>\n",
       "      <td>0</td>\n",
       "      <td>0</td>\n",
       "      <td>0</td>\n",
       "      <td>0</td>\n",
       "    </tr>\n",
       "    <tr>\n",
       "      <th>4</th>\n",
       "      <td>subj1_series1_4</td>\n",
       "      <td>0</td>\n",
       "      <td>0</td>\n",
       "      <td>0</td>\n",
       "      <td>0</td>\n",
       "      <td>0</td>\n",
       "      <td>0</td>\n",
       "    </tr>\n",
       "  </tbody>\n",
       "</table>\n",
       "</div>"
      ],
      "text/plain": [
       "                id  HandStart  FirstDigitTouch  BothStartLoadPhase  LiftOff  \\\n",
       "0  subj1_series1_0          0                0                   0        0   \n",
       "1  subj1_series1_1          0                0                   0        0   \n",
       "2  subj1_series1_2          0                0                   0        0   \n",
       "3  subj1_series1_3          0                0                   0        0   \n",
       "4  subj1_series1_4          0                0                   0        0   \n",
       "\n",
       "   Replace  BothReleased  \n",
       "0        0             0  \n",
       "1        0             0  \n",
       "2        0             0  \n",
       "3        0             0  \n",
       "4        0             0  "
      ]
     },
     "execution_count": 9,
     "metadata": {},
     "output_type": "execute_result"
    }
   ],
   "source": [
    "ev.head()"
   ]
  },
  {
   "cell_type": "markdown",
   "metadata": {},
   "source": [
    "# Reading the data\n",
    "\n",
    "The below function reads each csv in the train directory, and stacks them into two numpy matrices. One with the readings from the EEG (self.data) and one with the corresponding class labels (self.target)."
   ]
  },
  {
   "cell_type": "code",
   "execution_count": 17,
   "metadata": {},
   "outputs": [],
   "source": [
    "class eegdata(Dataset):\n",
    "    \n",
    "    def __init__(self, path, validation=False, subjects=range(1,13)):\n",
    "        super().__init__()\n",
    "        data, self.target = self.readfiles(path, validation, subjects)\n",
    "        self.mean= data.mean(axis=0)\n",
    "        self.std = data.std(axis=0)\n",
    "        self.data = self.norm(data)\n",
    "    \n",
    "    def norm(self, x):\n",
    "        return ((x - self.mean)/self.std)\n",
    "    \n",
    "    def to_np(self, values):\n",
    "        \n",
    "        #get total lines of data count\n",
    "        count = 0\n",
    "        for i in range(len(values)):\n",
    "            count += len(values[i])\n",
    "        \n",
    "        #create np array size of all data\n",
    "        ret = np.zeros((count, len(values[0][0])))\n",
    "        \n",
    "        #copy data into np array \n",
    "        ix = 0\n",
    "        for i in range(len(values)):\n",
    "            ret[ix:ix+len(values[i]), :] = values[i]\n",
    "            ix += len(values[i])\n",
    "        return ret\n",
    "        \n",
    "    \n",
    "    def readfiles(self, path, validation, subjects):\n",
    "        \n",
    "        allx = []\n",
    "        ally = []\n",
    "        \n",
    "        series = [1,2,4,5,6,7,8] if validation == False else [3]\n",
    "        \n",
    "        for i in subjects:\n",
    "            print('log: reading subject {}...'.format(i))\n",
    "            xs = None\n",
    "            ys = None\n",
    "            for j in series:\n",
    "\n",
    "                data = 'subj{}_series{}_data.csv'.format(i,j)\n",
    "                events = 'subj{}_series{}_events.csv'.format(i,j)\n",
    "\n",
    "                x = pd.read_csv(path + data).values[:, 1:]\n",
    "                xs = x if xs is None else np.vstack((xs, x))\n",
    "\n",
    "                y = pd.read_csv(path + events).values[:, 1:]\n",
    "                ys = y if ys is None else np.vstack((ys, y))\n",
    "\n",
    "            allx.append(xs)\n",
    "            ally.append(ys)\n",
    "\n",
    "        xs = self.to_np(allx)\n",
    "        ys = self.to_np(ally)\n",
    "\n",
    "        return xs, ys\n",
    "                    \n",
    "    \n",
    "    def __getitem__(self, index):\n",
    "        return self.data[index], self.target[index]\n",
    "        \n",
    "    def __len__(self):\n",
    "        return len(self.data)\n",
    "                    "
   ]
  },
  {
   "cell_type": "code",
   "execution_count": null,
   "metadata": {},
   "outputs": [],
   "source": [
    "# load subjects data into one big array using object created above\n",
    "# if not enough RAM is available, only load some subjects at a time, and train on these subjects seperately\n",
    "# i.e. train on subjects 1-4, then 5-8, then 9-12. Here the code starts off by loading up subjects 1-4 only.\n",
    "\n",
    "subjects=range(1,5)\n",
    "traindata = eegdata(f'{PATH}train/', subjects=subjects)\n",
    "valdata = eegdata(f'{PATH}train/', validation=True)"
   ]
  },
  {
   "cell_type": "code",
   "execution_count": null,
   "metadata": {},
   "outputs": [],
   "source": [
    "# also create individual datasets for subjects, we will use this now for visualising data, and later \n",
    "# for finetuning the model on the individuals. If not enough RAM, skip this step until you have finished training\n",
    "# on all subjects.\n",
    "\n",
    "def get_individuals(individuals=range(1,5)):\n",
    "          \n",
    "    subjects = []\n",
    "    vals = []\n",
    "\n",
    "    for i in individuals:\n",
    "    \n",
    "        s = [i]\n",
    "        subject = eegdata(f'{PATH}train/', subjects=s)\n",
    "        v = eegdata(f'{PATH}train/', validation=True, subjects=s)\n",
    "        subjects.append(subject)\n",
    "        vals.append(v)\n",
    "        \n",
    "    return subjects, vals"
   ]
  },
  {
   "cell_type": "code",
   "execution_count": null,
   "metadata": {},
   "outputs": [],
   "source": [
    "subjects, vals = get_individuals()"
   ]
  },
  {
   "cell_type": "markdown",
   "metadata": {},
   "source": [
    "# Visualising the data\n",
    "\n",
    "The below functions let you pick an event and a subject and see how the 32 voltage channels readings change over a time window of 200ms before the event until 300ms after.\n",
    "\n",
    "To begin looking at the data I picked the first event 'HandStart'. This refers to when a light flashes,  telling the subject to begin the grasp and lift. Looking at the first subject, this figure shows how the 32 values changed during the time window.\n",
    "\n",
    "<img src=\"images/32waves.jpeg\">\n",
    "\n",
    "Already we can see a pattern and if we average all the 32 values, it suddenly becomes much more clear.\n",
    "\n",
    "<img src=\"images/subj1wave.jpeg\">\n",
    "\n",
    "It seems HandStart is accompanied by a general lowering of the overall voltage readings followed by a spike. The model should be able to recognise these patterns when making predictions. Importantly, the data has a similar shape when we look at another subject:\n",
    "\n",
    "<img src=\"images/subj3wave.jpeg\">\n",
    "\n",
    "With such clear patterns, you might wonder who even needs a machine learning algorithm? Yet unfortunately things become less obvious as we look at the rest of the subjects. Scroll down to see averages from all subjects."
   ]
  },
  {
   "cell_type": "code",
   "execution_count": 470,
   "metadata": {},
   "outputs": [],
   "source": [
    "# function to see how readings change on average over course of an event\n",
    "def get_spike(subject, event, average=True):\n",
    "    \n",
    "    spike = np.zeros([19,32])\n",
    "    s = subject\n",
    "\n",
    "    indexes = np.where(subjects[s].target[:,event] == 1)[0]\n",
    "    i = 0\n",
    "    div = 0\n",
    "    \n",
    "    while i < len(indexes):\n",
    "        \n",
    "        ix = subjects[s].data[indexes[i]-100:indexes[i+149]+50]\n",
    "        spike += ix[::16]\n",
    "        div += 1\n",
    "        i += 150\n",
    "\n",
    "    spike /= div\n",
    "    if average == True:\n",
    "        spike = spike.mean(axis=1)\n",
    "    return spike"
   ]
  },
  {
   "cell_type": "code",
   "execution_count": 480,
   "metadata": {},
   "outputs": [
    {
     "name": "stderr",
     "output_type": "stream",
     "text": [
      "/anaconda3/lib/python3.6/site-packages/ipykernel_launcher.py:8: DeprecationWarning: `spline` is deprecated!\n",
      "spline is deprecated in scipy 0.19.0, use Bspline class instead.\n",
      "  \n"
     ]
    },
    {
     "data": {
      "image/png": "[encoded data removed]",
      "text/plain": [
       "<Figure size 720x720 with 12 Axes>"
      ]
     },
     "metadata": {
      "needs_background": "light"
     },
     "output_type": "display_data"
    }
   ],
   "source": [
    "# plot figures for how readings change across all 12 subjects for 'HandStart' action\n",
    "fig = plt.figure(12, figsize=[10,10])\n",
    "for s in range(12):\n",
    "    \n",
    "    ax = fig.add_subplot(3,4,s+1)\n",
    "    spike = get_spike(s, 0)\n",
    "    xnew = np.linspace(0,len(spike),19) #300 represents number of points to make between T.min and T.max\n",
    "\n",
    "    smooth = spline(xnew,spike,xnew)\n",
    "    ax.plot(range(len(spike)), spike)\n",
    "    ax.set_xticklabels([])\n",
    "    ax.set_yticklabels([])"
   ]
  },
  {
   "cell_type": "markdown",
   "metadata": {},
   "source": [
    "Though the downward and upward spike is seen relatively consistently across the board, it's shape does vary considerably and apart from an overall increase in activity, a discernible pattern is not readily made out by the human eye."
   ]
  },
  {
   "cell_type": "code",
   "execution_count": null,
   "metadata": {},
   "outputs": [],
   "source": [
    "# some parameteres for the model\n",
    "num_features = 32\n",
    "window_size = 1024\n",
    "batch_size=2000"
   ]
  },
  {
   "cell_type": "code",
   "execution_count": null,
   "metadata": {},
   "outputs": [],
   "source": [
    "# Batch creator. When training it will return random locations in the dataset. The data is a time series \n",
    "# and so we feed previous readings (going back window_size) in with each index. Rather than feed in all window_size \n",
    "# previous readings, we subsample and take every 4th set of readings.\n",
    "\n",
    "def get_batch(dataset, batch_size=2000, val=False, index=None):\n",
    "    \n",
    "    if val == False:\n",
    "        index = random.randint(window_size, len(dataset) - 16 * batch_size)\n",
    "        indexes = np.arange(index, index + 16*batch_size, 16)\n",
    "\n",
    "    else:\n",
    "        indexes = np.arange(index, index + batch_size)\n",
    "    \n",
    "    batch = np.zeros((batch_size, num_features, window_size//4))\n",
    "    \n",
    "    b = 0\n",
    "    for i in indexes:\n",
    "        \n",
    "        start = i - window_size if i - window_size > 0 else 0\n",
    "        \n",
    "        tmp = dataset.data[start:i]\n",
    "        batch[b,:,:] = tmp[::4].transpose()\n",
    "        \n",
    "        b += 1\n",
    "\n",
    "    targets = dataset.target[indexes]\n",
    "    return torch.DoubleTensor(batch), torch.DoubleTensor(targets) "
   ]
  },
  {
   "cell_type": "markdown",
   "metadata": {},
   "source": [
    "# The Model\n",
    "\n",
    "The key to understanding which action is taking place lies in seeing the current reading in its proper context. \n",
    "So for every reading we send into our machine learning model, we will also send in readings from across a previous time window. This way the model can 'see' the shape of the wave leading up to the current event.\n",
    "\n",
    "Convolutional neural networks (CNN) work well with time series data, so this will be our model of choice.\n",
    "Though reading minds may seem like an incredibly complex art, high-level deep learning libraries like Pytorch mean we can actually code a model in 13 lines:"
   ]
  },
  {
   "cell_type": "code",
   "execution_count": null,
   "metadata": {},
   "outputs": [],
   "source": [
    "# convolutional network model we will train to detect patterns in readings. For more information see my tutorial here.\n",
    "\n",
    "class convmodel(nn.Module):\n",
    "    \n",
    "    def __init__(self, out_classes, drop=0.5, d_linear=124):\n",
    "        super().__init__()\n",
    "        \n",
    "        self.conv2 = nn.Conv1d(32, 64, kernel_size=3, padding=0, stride=1)\n",
    "        self.bn = nn.BatchNorm1d(64)\n",
    "        self.pool = nn.MaxPool1d(2, stride=2)\n",
    "        self.linear1 = nn.Linear(8128, d_linear)\n",
    "\n",
    "        self.linear3 = nn.Linear(d_linear, out_classes)\n",
    "        self.dropout1 = nn.Dropout(drop)\n",
    "        self.dropout2 = nn.Dropout(drop)\n",
    "        self.dropout3 = nn.Dropout(drop)\n",
    "        \n",
    "        self.conv = nn.Sequential(self.conv2, nn.ReLU(inplace=True), self.bn,\\\n",
    "                                    self.pool, self.dropout1) \n",
    "        self.dense = nn.Sequential(self.linear1, nn.ReLU(inplace=True),self.dropout2,\\\n",
    "                                    self.dropout3, self.linear3)\n",
    "    def forward(self, x):\n",
    "        bs = x.size(0)\n",
    "        x = self.conv(x)\n",
    "        x = x.view(bs, -1)\n",
    "        output = self.dense(x)\n",
    "        \n",
    "        return torch.sigmoid(output)"
   ]
  },
  {
   "cell_type": "markdown",
   "metadata": {},
   "source": [
    "The above gives the code for a simple (but effective…) CNN perfectly capable of tackling the job. \n",
    "It consists of a 1d convolutional layer, and two linear layers. While a full description of how these processes work is beyond the scope of this post, let's at least get a quick overview.\n",
    "\n",
    "A convolutional layer simply consists of a kernel that slides along our data and applies its weights to the data values. This animation I made explains better than words alone:\n",
    "\n",
    "<img src='images/cnn.gif'>\n",
    "\n",
    "In reality deep learning networks will have multiple kernels, producing multiple output arrays. In the network coded above, we use 64 kernels each with their own weights, and hence produce 64 different output vectors. Each of these kernels can react to a different kind of pattern in the input.\n",
    "\n",
    "There will also be multiple input channels (32 in fact), each one containing the previous readings for each EEG position.\n",
    "\n",
    "The outputs from the convolutional layer are then all lined up in a single vector and put through a neural network with two layers. Here is an animation of a simple two layer neural network with three inputs, a first layer with two nodes, and a final layer with one:\n",
    "\n",
    "<img src='images/nn.gif'>\n",
    "\n",
    "In our neural network the process is the same though only much bigger (8128 input nodes, 124 nodes in the first layer, and 6 nodes in the final layer). There are 6 final nodes because there are 6 possible actions, and we determine an action is happening if it's corresponding node scores above a certain threshold. \n",
    "\n",
    "Two linear layers in a neural network is a pretty standard setup, it allows for XOR calculations (see this post) and means we don't reduce the input immediately from 8196 nodes to 6 nodes. Deciding the exact number of kernels and linear nodes is more of an art than science, and requires some fiddling around.\n",
    "\n",
    "The weights in the convolutional kernel and the linear layers are initially random, but a process called back-propagation corrects them as we train the network on the data. For an in-depth tutorial on this process, I'd recommend Andrew Ng's free machine learning Coursera course and my tutorials.\n",
    "\n",
    "When trained, the interactions between all these weights allows the network to detect patterns in data and make accurate predictions."
   ]
  },
  {
   "cell_type": "code",
   "execution_count": null,
   "metadata": {},
   "outputs": [],
   "source": [
    "model = convmodel(6).double()\n",
    "if USE_CUDA == 1:\n",
    "    model = model.cuda()\n",
    "optim = torch.optim.Adadelta(model.parameters(), lr=1, eps=1e-10)"
   ]
  },
  {
   "cell_type": "code",
   "execution_count": null,
   "metadata": {},
   "outputs": [],
   "source": [
    "bs = batch_size\n",
    "\n",
    "def train(traindata, epochs, printevery=1, shuffle=True):\n",
    "    \n",
    "    model.train()\n",
    "    \n",
    "    for epoch in range(epochs):\n",
    "        \n",
    "        total_loss = 0\n",
    "        for i in range(len(traindata)//bs):\n",
    "            \n",
    "            optim.zero_grad()\n",
    "            x, y = get_batch(traindata)\n",
    "            if USE_CUDA == 1:\n",
    "                x = Variable(x).cuda()\n",
    "                y = Variable(y).cuda()\n",
    "            preds = model(x)\n",
    "            loss = F.binary_cross_entropy(preds.view(-1), y.view(-1))\n",
    "            loss.backward()\n",
    "            total_loss += loss.data[0]\n",
    "            optim.step()\n",
    "            if (i + 1) % printevery == 0:\n",
    "                print(\"epoch: %d, iter %d/%d, loss %.4f\"%(epoch + 1, i + 1, len(traindata)//2000, total_loss/printevery), end='images/\\r')\n",
    "                total_loss = 0\n",
    "\n",
    "            "
   ]
  },
  {
   "cell_type": "code",
   "execution_count": null,
   "metadata": {},
   "outputs": [],
   "source": [
    "# train model for one epoch\n",
    "train(traindata,1)"
   ]
  },
  {
   "cell_type": "code",
   "execution_count": null,
   "metadata": {},
   "outputs": [],
   "source": [
    "# save general model\n",
    "!mkdir models\n",
    "torch.save(model.state_dict(), \"./models/Convnet_skip4_epoch1\")"
   ]
  },
  {
   "cell_type": "markdown",
   "metadata": {},
   "source": [
    "# Using the model to make predictions\n",
    "\n",
    "The below function calculates AUC scores on the validation set."
   ]
  },
  {
   "cell_type": "code",
   "execution_count": null,
   "metadata": {},
   "outputs": [],
   "source": [
    "def getPredictions(data):\n",
    "    \n",
    "    model.eval()\n",
    "    \n",
    "    p = []\n",
    "    res = []\n",
    "    i = window_size\n",
    "    bs = 2000\n",
    "    while i < len(data):\n",
    "        \n",
    "        if i + bs > len(data):\n",
    "            bs = len(data) - i\n",
    "             \n",
    "        x, y = get_batch(data, bs, index=i, val=True, test=test)\n",
    "        if USE_CUDA == 1:\n",
    "            x = x.cuda()\n",
    "\n",
    "        preds = model(x)\n",
    "        preds = preds.squeeze(1)\n",
    "        \n",
    "        p.append(np.array(preds.data))\n",
    "        res.append(np.array(y.data))\n",
    "\n",
    "        i += bs\n",
    "    \n",
    "    preds = p[0]\n",
    "    for i in p[1:]:\n",
    "        preds = np.vstack((preds,i))\n",
    "    \n",
    "    targs = res[0]\n",
    "    for i in res[1:]:\n",
    "        targs = np.vstack((targs, i))\n",
    "    \n",
    "    return preds, targs\n",
    "\n",
    "def valscore(data, test=False):\n",
    "    \n",
    "    \n",
    "    preds, targs = getPredictions(data, test)\n",
    "        \n",
    "    aucs = [auc(targs[:, j], preds[:, j]) for j in range(6)]\n",
    "    total_loss = np.mean(aucs)\n",
    "    print(total_loss)\n",
    "    \n",
    "    return preds, targs   "
   ]
  },
  {
   "cell_type": "code",
   "execution_count": null,
   "metadata": {},
   "outputs": [],
   "source": [
    "# see how we scored on validation set\n",
    "valscore(valdata)"
   ]
  },
  {
   "cell_type": "markdown",
   "metadata": {},
   "source": [
    "# Train individuals\n",
    "\n",
    "So far we have trained a general model on all the data. To make predictions for each individual we will now fine tune the model on only that individual's data for one epoch. The function below loads the weights from the general model, finetunes on an individual, checks how it scores on the validation set and then saves the weights for that individual. We will use these weights later to assess our results."
   ]
  },
  {
   "cell_type": "code",
   "execution_count": null,
   "metadata": {},
   "outputs": [],
   "source": [
    "def train_individuals(subjects, vals):\n",
    "\n",
    "    for i in range(12):\n",
    "\n",
    "        model.load_state_dict(torch.load(\"./models/Convnet_skip4_epoch1\"))\n",
    "        train(subjects[i], 1)\n",
    "        print('')\n",
    "        valscore(vals[i])\n",
    "        torch.save(model.state_dict(), \"./models/subj_{}_epoch2\".format(i + 1))\n"
   ]
  },
  {
   "cell_type": "code",
   "execution_count": null,
   "metadata": {},
   "outputs": [],
   "source": [
    "# train general model on each subject, then get AUC score for validation set for that subject\n",
    "train_individuals(subjects, vals)"
   ]
  },
  {
   "cell_type": "markdown",
   "metadata": {},
   "source": [
    "# The above code yielded these scores\n",
    "\n",
    "Best results on validation set. Trained on all data 1 epoch, then just on each subject for 1 epoch, and validated on series 3.\n",
    "\n",
    "Subject 1\n",
    "AUC score on val set: 0.959168670213603\n",
    "\n",
    "Subject 2\n",
    "AUC score on val set: 0.9505101195220913\n",
    "\n",
    "Subject 3\n",
    "AUC score on val set: 0.9219539186384723\n",
    "\n",
    "Subject 4\n",
    "AUC score on val set: 0.917931166630155\n",
    "\n",
    "Subject 5\n",
    "AUC score on val set: 0.9352121018446913\n",
    "\n",
    "Subject 6 \n",
    "AUC score on val set: 0.9419648786256208\n",
    "\n",
    "Subject 7 \n",
    "AUC score on val set: 0.9567390746916029\n",
    "\n",
    "Subject 8\n",
    "AUC score on val set: 0.8484060070332817\n",
    "\n",
    "Subject 9\n",
    "AUC score on val set: 0.9373451906678737\n",
    "\n",
    "Subject 10\n",
    "AUC score on val set: 0.9494592292374859\n",
    "\n",
    "Subject 11\n",
    "AUC score on val set: 0.9120022844956828\n",
    "\n",
    "Subject 12\n",
    "AUC score on val set: 0.9483051008950621"
   ]
  },
  {
   "cell_type": "markdown",
   "metadata": {},
   "source": [
    "# Results\n",
    "\n",
    "Running this model over all the data once (taking less than an hour) was enough for the network to discern patterns in the EEG readings and generate a validation score with 94% AUC.\n",
    "\n",
    "However as I was to learn, 94% AUC is not the same thing as 94% accuracy. AUC is used in academia to objectively compare results as it gives a score independent of class imbalances and thresholds. In its simplest terms, it gives the probability that the classifier will rank a randomly chosen positive example higher than a randomly chosen negative example (read more here).\n",
    "\n",
    "Yet how does this translate into actual results? The best way to gain a true gage of how the model fared is to dig into some visuals.\n",
    "\n",
    "Let's look at some data previously unseen by our model. In this series the subject performs the grasp and lift 28 times and the below figure shows when the subject carried out the actions (True) and when the model predicted the actions were occurring (Prediction)."
   ]
  },
  {
   "cell_type": "code",
   "execution_count": null,
   "metadata": {},
   "outputs": [],
   "source": [
    "# let's examine the results\n",
    "model.load_state_dict(torch.load(\"./models/subj_1_epoch2\"))\n",
    "preds, targs = valscore(vals[0])"
   ]
  },
  {
   "cell_type": "code",
   "execution_count": 355,
   "metadata": {},
   "outputs": [],
   "source": [
    "# f is feature, and th is threshold (at which point we consider the value a positive classification). \n",
    "# In this case we are seeing how they did at 'FirstDigitTouch'. The figure shows that the model predicted \n",
    "# an action was occuring 23 of 28 times, and thought an event was occuring when it wasn't once.\n",
    "\n",
    "def show_whole_series(f=1, th=0.3):\n",
    "\n",
    "    ps = np.where(preds[:,f] > th)\n",
    "    true = np.where(targs[:,f] == 1)\n",
    "    fig = plt.figure(figsize=[15,1])\n",
    "    ax1 = fig.add_subplot(1,1,1)\n",
    "    ax1.scatter(ps[0]/500, ['Prediction']*len(ps[0]))\n",
    "    ax1.scatter(true[0]/500, ['True']*len(true[0]))\n"
   ]
  },
  {
   "cell_type": "code",
   "execution_count": 356,
   "metadata": {},
   "outputs": [
    {
     "data": {
      "image/png": "[encoded data removed]",
      "text/plain": [
       "<Figure size 1080x72 with 1 Axes>"
      ]
     },
     "metadata": {
      "needs_background": "light"
     },
     "output_type": "display_data"
    }
   ],
   "source": [
    "show_whole_series()"
   ]
  },
  {
   "cell_type": "markdown",
   "metadata": {},
   "source": [
    "The model correctly predicts 23 out of the 28 lifts, and mistakenly predicts a lift when the subject isn't performing one.\n",
    "\n",
    "If we closely examine a singular incident of the subject performing the grasp and lift, we can see how correctly the model predicted the exact action that was occurring. In the figure below we look at the third grasp and lift in the series; blue represents the prediction and orange when it actually occurred."
   ]
  },
  {
   "cell_type": "code",
   "execution_count": 357,
   "metadata": {},
   "outputs": [],
   "source": [
    "# printing some figures showing how successfully it predicted each event during a full grasp and lift sequence. This\n",
    "# example looks at the third time subject 1 performed the task.\n",
    "\n",
    "def get_indexes(data, event):\n",
    "    \n",
    "    start = 0\n",
    "    count = 1\n",
    "    for i in range(len(data)):\n",
    "\n",
    "        if data[i + 1] > data[i] + 300:\n",
    "\n",
    "            if event == count:\n",
    "                return start, i\n",
    "            start = i + 1\n",
    "            count += 1\n",
    "\n",
    "def show_results(fs=[0], trues=1, ps=[0], ths=[0.3],left=0,right=0):\n",
    "    \n",
    "    for i in range(len(fs)):\n",
    "        \n",
    "        \n",
    "        f = fs[i]\n",
    "        th = ths[i]\n",
    "        \n",
    "        p = np.where(preds[:,f] > th)\n",
    "        true = np.where(targs[:,f] == 1)\n",
    "        \n",
    "        a_start, a_end = get_indexes(p[0], ps[i])\n",
    "        t_start = trues * 150 + 150 \n",
    "         \n",
    "        fig2 = plt.figure(figsize=[15,1])\n",
    "        ax1 = fig2.add_subplot(1,1,1)\n",
    "        ax1.scatter(p[0][a_start:a_end]/500, ['Prediction']*(a_end-a_start))\n",
    "        ax1.scatter(true[0][t_start:t_start+150]/500, ['True']*150)\n",
    "        ax1.set_xlim(left=left, right=right)\n",
    "        if left != 0 and right != 0:\n",
    "            ax1.set_title(ev.columns[f + 1])\n",
    "        "
   ]
  },
  {
   "cell_type": "code",
   "execution_count": 358,
   "metadata": {},
   "outputs": [
    {
     "data": {
      "image/png": "[encoded data removed]",
      "text/plain": [
       "<Figure size 1080x72 with 1 Axes>"
      ]
     },
     "metadata": {
      "needs_background": "light"
     },
     "output_type": "display_data"
    },
    {
     "data": {
      "image/png": "[encoded data removed]",
      "text/plain": [
       "<Figure size 1080x72 with 1 Axes>"
      ]
     },
     "metadata": {
      "needs_background": "light"
     },
     "output_type": "display_data"
    },
    {
     "data": {
      "image/png": "[encoded data removed]",
      "text/plain": [
       "<Figure size 1080x72 with 1 Axes>"
      ]
     },
     "metadata": {
      "needs_background": "light"
     },
     "output_type": "display_data"
    },
    {
     "data": {
      "image/png": "[encoded data removed]",
      "text/plain": [
       "<Figure size 1080x72 with 1 Axes>"
      ]
     },
     "metadata": {
      "needs_background": "light"
     },
     "output_type": "display_data"
    },
    {
     "data": {
      "image/png": "[encoded data removed]",
      "text/plain": [
       "<Figure size 1080x72 with 1 Axes>"
      ]
     },
     "metadata": {
      "needs_background": "light"
     },
     "output_type": "display_data"
    },
    {
     "data": {
      "image/png": "[encoded data removed]",
      "text/plain": [
       "<Figure size 1080x72 with 1 Axes>"
      ]
     },
     "metadata": {
      "needs_background": "light"
     },
     "output_type": "display_data"
    }
   ],
   "source": [
    "show_results(fs=[0,1,2,3,4,5],trues=1, ps=[1,1,1,1,2,2], ths=[0.1,0.3,0.3,0.3,0.3,0.3], left=30.0, right=34.55)"
   ]
  },
  {
   "cell_type": "markdown",
   "metadata": {},
   "source": [
    "I think these results are particularly impressive. Although the predictions don't line up exactly with the data labels, this is not important in a functional sense.\n",
    "\n",
    "The orange bars reflect a time window of +-150ms around the action, and despite the model not predicting the entire time window, it does output a correct prediction when each event actually occurs. The model could hence be used to successfully predict when an action is happening.\n",
    "\n",
    "Notably we see the model is better at predicting the time window before the action than after it. The brain activity for a motion occurs before the movement itself, as signals start in the brain and must make their way down to the hand, so perhaps this is to be expected.\n",
    "\n",
    "The only exception to this pattern is seen in HandStart. This event refers to when a light flashes and the subject reacts to it. In this case the nervous activity would actually occur after the light flashes and so it makes sense that our model predicts the event after it happens."
   ]
  }
 ],
 "metadata": {
  "kernelspec": {
   "display_name": "Python 3",
   "language": "python",
   "name": "python3"
  },
  "language_info": {
   "codemirror_mode": {
    "name": "ipython",
    "version": 3
   },
   "file_extension": ".py",
   "mimetype": "text/x-python",
   "name": "python",
   "nbconvert_exporter": "python",
   "pygments_lexer": "ipython3",
   "version": "3.6.5"
  }
 },
 "nbformat": 4,
 "nbformat_minor": 2
}
